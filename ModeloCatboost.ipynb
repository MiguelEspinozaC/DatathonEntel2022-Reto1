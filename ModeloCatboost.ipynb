{
  "nbformat": 4,
  "nbformat_minor": 0,
  "metadata": {
    "colab": {
      "name": "ModeloCatboost.ipynb",
      "provenance": [],
      "collapsed_sections": []
    },
    "kernelspec": {
      "name": "python3",
      "display_name": "Python 3"
    },
    "language_info": {
      "name": "python"
    },
    "accelerator": "GPU",
    "gpuClass": "standard"
  },
  "cells": [
    {
      "cell_type": "code",
      "execution_count": 1,
      "metadata": {
        "colab": {
          "base_uri": "https://localhost:8080/"
        },
        "id": "QJe9UQt9QOZO",
        "outputId": "20b29020-5c68-4666-95cb-f30b38b6bce2"
      },
      "outputs": [
        {
          "output_type": "stream",
          "name": "stdout",
          "text": [
            "Downloading...\n",
            "From: https://drive.google.com/uc?id=1zTyEasB9XmrobEhb-JzUvIZxlfFDMx2-\n",
            "To: /content/dfTrainV_20220814_V4.csv\n",
            "100% 394M/394M [00:03<00:00, 124MB/s]\n"
          ]
        }
      ],
      "source": [
        "## Archivo de Entrenamiento\n",
        "! gdown 1zTyEasB9XmrobEhb-JzUvIZxlfFDMx2-"
      ]
    },
    {
      "cell_type": "code",
      "source": [
        "## Archivo de Submit\n",
        "! gdown  1xliRTFX_5kmvbvqtQ52xwnFKgRWSw-p8"
      ],
      "metadata": {
        "colab": {
          "base_uri": "https://localhost:8080/"
        },
        "id": "4SNhQx6NQ1Rd",
        "outputId": "730aa048-bdd0-4a1b-8bf5-9ef656b20393"
      },
      "execution_count": 2,
      "outputs": [
        {
          "output_type": "stream",
          "name": "stdout",
          "text": [
            "Downloading...\n",
            "From: https://drive.google.com/uc?id=1xliRTFX_5kmvbvqtQ52xwnFKgRWSw-p8\n",
            "To: /content/dfSubmitV_20220814_V4.csv\n",
            "100% 134M/134M [00:01<00:00, 127MB/s]\n"
          ]
        }
      ]
    },
    {
      "cell_type": "code",
      "source": [
        "!pip install catboost"
      ],
      "metadata": {
        "colab": {
          "base_uri": "https://localhost:8080/"
        },
        "id": "46ooRO90RLrF",
        "outputId": "5bf1ae0c-3301-4a1e-a209-29efb32f0701"
      },
      "execution_count": 3,
      "outputs": [
        {
          "output_type": "stream",
          "name": "stdout",
          "text": [
            "Looking in indexes: https://pypi.org/simple, https://us-python.pkg.dev/colab-wheels/public/simple/\n",
            "Collecting catboost\n",
            "  Downloading catboost-1.0.6-cp37-none-manylinux1_x86_64.whl (76.6 MB)\n",
            "\u001b[K     |████████████████████████████████| 76.6 MB 125 kB/s \n",
            "\u001b[?25hRequirement already satisfied: matplotlib in /usr/local/lib/python3.7/dist-packages (from catboost) (3.2.2)\n",
            "Requirement already satisfied: pandas>=0.24.0 in /usr/local/lib/python3.7/dist-packages (from catboost) (1.3.5)\n",
            "Requirement already satisfied: graphviz in /usr/local/lib/python3.7/dist-packages (from catboost) (0.10.1)\n",
            "Requirement already satisfied: numpy>=1.16.0 in /usr/local/lib/python3.7/dist-packages (from catboost) (1.21.6)\n",
            "Requirement already satisfied: six in /usr/local/lib/python3.7/dist-packages (from catboost) (1.15.0)\n",
            "Requirement already satisfied: plotly in /usr/local/lib/python3.7/dist-packages (from catboost) (5.5.0)\n",
            "Requirement already satisfied: scipy in /usr/local/lib/python3.7/dist-packages (from catboost) (1.7.3)\n",
            "Requirement already satisfied: pytz>=2017.3 in /usr/local/lib/python3.7/dist-packages (from pandas>=0.24.0->catboost) (2022.1)\n",
            "Requirement already satisfied: python-dateutil>=2.7.3 in /usr/local/lib/python3.7/dist-packages (from pandas>=0.24.0->catboost) (2.8.2)\n",
            "Requirement already satisfied: kiwisolver>=1.0.1 in /usr/local/lib/python3.7/dist-packages (from matplotlib->catboost) (1.4.4)\n",
            "Requirement already satisfied: pyparsing!=2.0.4,!=2.1.2,!=2.1.6,>=2.0.1 in /usr/local/lib/python3.7/dist-packages (from matplotlib->catboost) (3.0.9)\n",
            "Requirement already satisfied: cycler>=0.10 in /usr/local/lib/python3.7/dist-packages (from matplotlib->catboost) (0.11.0)\n",
            "Requirement already satisfied: typing-extensions in /usr/local/lib/python3.7/dist-packages (from kiwisolver>=1.0.1->matplotlib->catboost) (4.1.1)\n",
            "Requirement already satisfied: tenacity>=6.2.0 in /usr/local/lib/python3.7/dist-packages (from plotly->catboost) (8.0.1)\n",
            "Installing collected packages: catboost\n",
            "Successfully installed catboost-1.0.6\n"
          ]
        }
      ]
    },
    {
      "cell_type": "code",
      "source": [
        "# Pandas\n",
        "import pandas as pd\n",
        "\n",
        "# CatBoost\n",
        "from catboost import CatBoostClassifier, Pool\n",
        "\n",
        "# SKLearn\n",
        "from sklearn.model_selection import train_test_split, StratifiedKFold, KFold\n",
        "from sklearn.metrics import confusion_matrix, classification_report, roc_curve, roc_auc_score, accuracy_score, recall_score\n",
        "\n",
        "# MatplotLib\n",
        "from matplotlib import pyplot as plt\n",
        "\n",
        "# Seaborn\n",
        "import seaborn as sns\n",
        "\n",
        "# Numpy\n",
        "import numpy as np"
      ],
      "metadata": {
        "id": "6CBVEANhRJgf"
      },
      "execution_count": 4,
      "outputs": []
    },
    {
      "cell_type": "code",
      "source": [
        "pd.set_option('display.max_rows', None)\n",
        "pd.set_option('display.max_columns', None)"
      ],
      "metadata": {
        "id": "zxIItXVkRJi1"
      },
      "execution_count": 5,
      "outputs": []
    },
    {
      "cell_type": "code",
      "source": [
        "dfTrain  = pd.read_csv('/content/dfTrainV_20220814_V4.csv' )\n",
        "dfSubmit = pd.read_csv('/content/dfSubmitV_20220814_V4.csv' )"
      ],
      "metadata": {
        "id": "DQRmPNLVRagZ"
      },
      "execution_count": 6,
      "outputs": []
    },
    {
      "cell_type": "code",
      "source": [
        "dfTrain.head()"
      ],
      "metadata": {
        "colab": {
          "base_uri": "https://localhost:8080/",
          "height": 270
        },
        "id": "sbGFGA16c7IC",
        "outputId": "852b57fd-e2af-488f-d075-5fe0c0c17ed3"
      },
      "execution_count": 7,
      "outputs": [
        {
          "output_type": "execute_result",
          "data": {
            "text/plain": [
              "                                   nro_telefono_hash TIPO_ADQ       SCORECAT  \\\n",
              "0  9be57e3928a78ae85be270575f97e82a6bdbd59fc87281...    tipo1           alto   \n",
              "1  119dd6dff66e259a3996de7d885e2c54e8ed5874239346...    tipo1           alto   \n",
              "2  73cec44593f362cccdb45773197a0bf2136978cb241c91...    tipo1          medio   \n",
              "3  db86e518af696d60b247466fd1bb5823cf81a9442c16b2...    tipo2  NOINFORMACION   \n",
              "4  90d5ab1ad28da36b0fa821759b0a9df2b248dc92a557a5...    tipo1           alto   \n",
              "\n",
              "                                               MARCA  \\\n",
              "0  e2f4e2c4b8d7cf9c17f5b7b3ec83bc02068bd673a2a87c...   \n",
              "1  d4c6a5785b57062229039a79c714d3cb3a4dac4e3e63ef...   \n",
              "2  2a1022b922f5038bc5bff79ff2960cd12cf266647b4f59...   \n",
              "3                                      NOINFORMACION   \n",
              "4  2a1022b922f5038bc5bff79ff2960cd12cf266647b4f59...   \n",
              "\n",
              "                                         NUEVA_GAMMA  \\\n",
              "0  dc937b59892604f5a86ac96936cd7ff09e25f18ae6b758...   \n",
              "1  dc937b59892604f5a86ac96936cd7ff09e25f18ae6b758...   \n",
              "2  76df0c6db32d4e04e0ef6a3a6a1e1686677e34308d9435...   \n",
              "3                                      NOINFORMACION   \n",
              "4  dc937b59892604f5a86ac96936cd7ff09e25f18ae6b758...   \n",
              "\n",
              "                                                  OS    DEVICE_TYPE  \\\n",
              "0  fb8e9c929bbc4ccaebcf8d68296c419464bdfaf01a6970...     SMARTPHONE   \n",
              "1  fb8e9c929bbc4ccaebcf8d68296c419464bdfaf01a6970...     SMARTPHONE   \n",
              "2  fb8e9c929bbc4ccaebcf8d68296c419464bdfaf01a6970...     SMARTPHONE   \n",
              "3                                      NOINFORMACION  NOINFORMACION   \n",
              "4  fb8e9c929bbc4ccaebcf8d68296c419464bdfaf01a6970...     SMARTPHONE   \n",
              "\n",
              "  CAT_VARIACION_MINFLU1 CAT_VARIACION_MINFLU2 CAT_VARIACION_APP1  \\\n",
              "0                noinfo                noinfo             noinfo   \n",
              "1                noinfo                noinfo             noinfo   \n",
              "2                noinfo                noinfo             noinfo   \n",
              "3                noinfo                noinfo             noinfo   \n",
              "4                noinfo                noinfo             noinfo   \n",
              "\n",
              "  CAT_VARIACION_APP2 CAT_VARIACION_APP3 CAT_VARIACION_APP4 CAT_VARIACION_APP5  \\\n",
              "0             noinfo             noinfo             noinfo             noinfo   \n",
              "1             noinfo             noinfo             noinfo             noinfo   \n",
              "2             noinfo             noinfo             noinfo             noinfo   \n",
              "3             noinfo             noinfo             noinfo             noinfo   \n",
              "4             noinfo             noinfo             noinfo             noinfo   \n",
              "\n",
              "  CAT_VARIACION_APP6 CAT_VARIACION_APP7 CAT_VARIACION_APP8 CAT_VARIACION_APP9  \\\n",
              "0             noinfo             noinfo             noinfo             noinfo   \n",
              "1             noinfo             noinfo             noinfo             noinfo   \n",
              "2             noinfo             noinfo             noinfo             noinfo   \n",
              "3             noinfo             noinfo             noinfo             noinfo   \n",
              "4             noinfo             noinfo             noinfo             noinfo   \n",
              "\n",
              "  CAT_VARIACION_RESTO                                               GIRO  \\\n",
              "0              noinfo  3e33e191fc2f1513037662f262867a04e278e8a0589a32...   \n",
              "1              noinfo  a9d0bcb92394bd06ed0e020135054d2dbf3e512fdf0b7f...   \n",
              "2              noinfo  a9d0bcb92394bd06ed0e020135054d2dbf3e512fdf0b7f...   \n",
              "3              noinfo  a9d0bcb92394bd06ed0e020135054d2dbf3e512fdf0b7f...   \n",
              "4              noinfo  a9d0bcb92394bd06ed0e020135054d2dbf3e512fdf0b7f...   \n",
              "\n",
              "                                             SUBGIRO  TIENE_PROD_1  \\\n",
              "0  8e0b81ed56b34766254d0492d32fa9d5d08a33690db2b6...             1   \n",
              "1  e159ded5abcf126e18b05856319e4a4ee58a3267f298fd...             1   \n",
              "2  e159ded5abcf126e18b05856319e4a4ee58a3267f298fd...             1   \n",
              "3  e159ded5abcf126e18b05856319e4a4ee58a3267f298fd...             1   \n",
              "4  e159ded5abcf126e18b05856319e4a4ee58a3267f298fd...             1   \n",
              "\n",
              "   TIENE_PROD_2  TIENE_PROD_3  FLG_GRUPO1  FLG_GRUPO2  FLG_GRUPO4  FLG_GRUPO6  \\\n",
              "0             0             0           1           0           0           0   \n",
              "1             0             0           0           0           0           1   \n",
              "2             0             0           1           0           0           1   \n",
              "3             0             0           0           0           0           0   \n",
              "4             0             0           0           0           0           0   \n",
              "\n",
              "   FLG_GRUPO7  FLG_GRUPO9  FLG_GRUPO10  FLG_GRUPO11  FLG_GRUPO16  \\\n",
              "0           0           1            1            1            1   \n",
              "1           0           0            0            0            1   \n",
              "2           0           0            0            0            1   \n",
              "3           0           0            0            0            0   \n",
              "4           0           0            0            0            1   \n",
              "\n",
              "   FLG_TARGETPREV  TIPOEQUIPO  VCHMESADENDA  VCHPENALIDAD  DAYS_FECINGRESO  \\\n",
              "0  NO_INFORMACION      PROPIO           0.0          0.00             3988   \n",
              "1  NO_INFORMACION  FINANCIADO           7.6        365.57             5997   \n",
              "2  NO_INFORMACION      PROPIO           0.0          0.00             5997   \n",
              "3  NO_INFORMACION      PROPIO           0.0          0.00             5997   \n",
              "4  NO_INFORMACION      PROPIO           0.0          0.00             5997   \n",
              "\n",
              "   DAYS_FECACTCONT  DAYS_LANZAMIENT  mins_flujo_1  mins_flujo_2  flg_flujo  \\\n",
              "0             1151              250    162.666667    334.983333  conflg_02   \n",
              "1             1145             1601    652.466667   1465.866667  conflg_02   \n",
              "2             1145              740    481.983333    299.100000  conflg_04   \n",
              "3             1145              916      0.016667      0.000000  conflg_06   \n",
              "4             1145              916    205.416667    291.983333  conflg_03   \n",
              "\n",
              "   trafico_app_1  trafico_app_2  trafico_app_3  trafico_app_4  trafico_app_5  \\\n",
              "0       0.362702    1491.756171            0.0            0.0            0.0   \n",
              "1     116.006533     411.665270            0.0            0.0            0.0   \n",
              "2      74.277843    1311.141026            0.0            0.0            0.0   \n",
              "3       0.000000       0.000000            0.0            0.0            0.0   \n",
              "4      25.465849     288.978822            0.0            0.0            0.0   \n",
              "\n",
              "   trafico_app_6  trafico_app_7  trafico_app_8  trafico_app_9  trafico_resto  \\\n",
              "0            0.0       0.000000       0.000000            0.0   15114.021472   \n",
              "1            0.0       0.029129     180.536775            0.0    2996.985180   \n",
              "2            0.0      12.869561     980.521564            0.0    2238.233796   \n",
              "3            0.0       0.000000       0.000000            0.0       0.000000   \n",
              "4            0.0       1.113294      37.027894            0.0      97.467674   \n",
              "\n",
              "  apptoppreferida flgusopreferente  TARGET  \n",
              "0   trafico_app_2         usoresto       0  \n",
              "1   trafico_app_2         usoresto       0  \n",
              "2   trafico_app_2     usopreferido       0  \n",
              "3         ninguna         usoresto       0  \n",
              "4   trafico_app_2     usopreferido       0  "
            ],
            "text/html": [
              "\n",
              "  <div id=\"df-9a075f43-8bca-452f-b5ea-0b5e870f8919\">\n",
              "    <div class=\"colab-df-container\">\n",
              "      <div>\n",
              "<style scoped>\n",
              "    .dataframe tbody tr th:only-of-type {\n",
              "        vertical-align: middle;\n",
              "    }\n",
              "\n",
              "    .dataframe tbody tr th {\n",
              "        vertical-align: top;\n",
              "    }\n",
              "\n",
              "    .dataframe thead th {\n",
              "        text-align: right;\n",
              "    }\n",
              "</style>\n",
              "<table border=\"1\" class=\"dataframe\">\n",
              "  <thead>\n",
              "    <tr style=\"text-align: right;\">\n",
              "      <th></th>\n",
              "      <th>nro_telefono_hash</th>\n",
              "      <th>TIPO_ADQ</th>\n",
              "      <th>SCORECAT</th>\n",
              "      <th>MARCA</th>\n",
              "      <th>NUEVA_GAMMA</th>\n",
              "      <th>OS</th>\n",
              "      <th>DEVICE_TYPE</th>\n",
              "      <th>CAT_VARIACION_MINFLU1</th>\n",
              "      <th>CAT_VARIACION_MINFLU2</th>\n",
              "      <th>CAT_VARIACION_APP1</th>\n",
              "      <th>CAT_VARIACION_APP2</th>\n",
              "      <th>CAT_VARIACION_APP3</th>\n",
              "      <th>CAT_VARIACION_APP4</th>\n",
              "      <th>CAT_VARIACION_APP5</th>\n",
              "      <th>CAT_VARIACION_APP6</th>\n",
              "      <th>CAT_VARIACION_APP7</th>\n",
              "      <th>CAT_VARIACION_APP8</th>\n",
              "      <th>CAT_VARIACION_APP9</th>\n",
              "      <th>CAT_VARIACION_RESTO</th>\n",
              "      <th>GIRO</th>\n",
              "      <th>SUBGIRO</th>\n",
              "      <th>TIENE_PROD_1</th>\n",
              "      <th>TIENE_PROD_2</th>\n",
              "      <th>TIENE_PROD_3</th>\n",
              "      <th>FLG_GRUPO1</th>\n",
              "      <th>FLG_GRUPO2</th>\n",
              "      <th>FLG_GRUPO4</th>\n",
              "      <th>FLG_GRUPO6</th>\n",
              "      <th>FLG_GRUPO7</th>\n",
              "      <th>FLG_GRUPO9</th>\n",
              "      <th>FLG_GRUPO10</th>\n",
              "      <th>FLG_GRUPO11</th>\n",
              "      <th>FLG_GRUPO16</th>\n",
              "      <th>FLG_TARGETPREV</th>\n",
              "      <th>TIPOEQUIPO</th>\n",
              "      <th>VCHMESADENDA</th>\n",
              "      <th>VCHPENALIDAD</th>\n",
              "      <th>DAYS_FECINGRESO</th>\n",
              "      <th>DAYS_FECACTCONT</th>\n",
              "      <th>DAYS_LANZAMIENT</th>\n",
              "      <th>mins_flujo_1</th>\n",
              "      <th>mins_flujo_2</th>\n",
              "      <th>flg_flujo</th>\n",
              "      <th>trafico_app_1</th>\n",
              "      <th>trafico_app_2</th>\n",
              "      <th>trafico_app_3</th>\n",
              "      <th>trafico_app_4</th>\n",
              "      <th>trafico_app_5</th>\n",
              "      <th>trafico_app_6</th>\n",
              "      <th>trafico_app_7</th>\n",
              "      <th>trafico_app_8</th>\n",
              "      <th>trafico_app_9</th>\n",
              "      <th>trafico_resto</th>\n",
              "      <th>apptoppreferida</th>\n",
              "      <th>flgusopreferente</th>\n",
              "      <th>TARGET</th>\n",
              "    </tr>\n",
              "  </thead>\n",
              "  <tbody>\n",
              "    <tr>\n",
              "      <th>0</th>\n",
              "      <td>9be57e3928a78ae85be270575f97e82a6bdbd59fc87281...</td>\n",
              "      <td>tipo1</td>\n",
              "      <td>alto</td>\n",
              "      <td>e2f4e2c4b8d7cf9c17f5b7b3ec83bc02068bd673a2a87c...</td>\n",
              "      <td>dc937b59892604f5a86ac96936cd7ff09e25f18ae6b758...</td>\n",
              "      <td>fb8e9c929bbc4ccaebcf8d68296c419464bdfaf01a6970...</td>\n",
              "      <td>SMARTPHONE</td>\n",
              "      <td>noinfo</td>\n",
              "      <td>noinfo</td>\n",
              "      <td>noinfo</td>\n",
              "      <td>noinfo</td>\n",
              "      <td>noinfo</td>\n",
              "      <td>noinfo</td>\n",
              "      <td>noinfo</td>\n",
              "      <td>noinfo</td>\n",
              "      <td>noinfo</td>\n",
              "      <td>noinfo</td>\n",
              "      <td>noinfo</td>\n",
              "      <td>noinfo</td>\n",
              "      <td>3e33e191fc2f1513037662f262867a04e278e8a0589a32...</td>\n",
              "      <td>8e0b81ed56b34766254d0492d32fa9d5d08a33690db2b6...</td>\n",
              "      <td>1</td>\n",
              "      <td>0</td>\n",
              "      <td>0</td>\n",
              "      <td>1</td>\n",
              "      <td>0</td>\n",
              "      <td>0</td>\n",
              "      <td>0</td>\n",
              "      <td>0</td>\n",
              "      <td>1</td>\n",
              "      <td>1</td>\n",
              "      <td>1</td>\n",
              "      <td>1</td>\n",
              "      <td>NO_INFORMACION</td>\n",
              "      <td>PROPIO</td>\n",
              "      <td>0.0</td>\n",
              "      <td>0.00</td>\n",
              "      <td>3988</td>\n",
              "      <td>1151</td>\n",
              "      <td>250</td>\n",
              "      <td>162.666667</td>\n",
              "      <td>334.983333</td>\n",
              "      <td>conflg_02</td>\n",
              "      <td>0.362702</td>\n",
              "      <td>1491.756171</td>\n",
              "      <td>0.0</td>\n",
              "      <td>0.0</td>\n",
              "      <td>0.0</td>\n",
              "      <td>0.0</td>\n",
              "      <td>0.000000</td>\n",
              "      <td>0.000000</td>\n",
              "      <td>0.0</td>\n",
              "      <td>15114.021472</td>\n",
              "      <td>trafico_app_2</td>\n",
              "      <td>usoresto</td>\n",
              "      <td>0</td>\n",
              "    </tr>\n",
              "    <tr>\n",
              "      <th>1</th>\n",
              "      <td>119dd6dff66e259a3996de7d885e2c54e8ed5874239346...</td>\n",
              "      <td>tipo1</td>\n",
              "      <td>alto</td>\n",
              "      <td>d4c6a5785b57062229039a79c714d3cb3a4dac4e3e63ef...</td>\n",
              "      <td>dc937b59892604f5a86ac96936cd7ff09e25f18ae6b758...</td>\n",
              "      <td>fb8e9c929bbc4ccaebcf8d68296c419464bdfaf01a6970...</td>\n",
              "      <td>SMARTPHONE</td>\n",
              "      <td>noinfo</td>\n",
              "      <td>noinfo</td>\n",
              "      <td>noinfo</td>\n",
              "      <td>noinfo</td>\n",
              "      <td>noinfo</td>\n",
              "      <td>noinfo</td>\n",
              "      <td>noinfo</td>\n",
              "      <td>noinfo</td>\n",
              "      <td>noinfo</td>\n",
              "      <td>noinfo</td>\n",
              "      <td>noinfo</td>\n",
              "      <td>noinfo</td>\n",
              "      <td>a9d0bcb92394bd06ed0e020135054d2dbf3e512fdf0b7f...</td>\n",
              "      <td>e159ded5abcf126e18b05856319e4a4ee58a3267f298fd...</td>\n",
              "      <td>1</td>\n",
              "      <td>0</td>\n",
              "      <td>0</td>\n",
              "      <td>0</td>\n",
              "      <td>0</td>\n",
              "      <td>0</td>\n",
              "      <td>1</td>\n",
              "      <td>0</td>\n",
              "      <td>0</td>\n",
              "      <td>0</td>\n",
              "      <td>0</td>\n",
              "      <td>1</td>\n",
              "      <td>NO_INFORMACION</td>\n",
              "      <td>FINANCIADO</td>\n",
              "      <td>7.6</td>\n",
              "      <td>365.57</td>\n",
              "      <td>5997</td>\n",
              "      <td>1145</td>\n",
              "      <td>1601</td>\n",
              "      <td>652.466667</td>\n",
              "      <td>1465.866667</td>\n",
              "      <td>conflg_02</td>\n",
              "      <td>116.006533</td>\n",
              "      <td>411.665270</td>\n",
              "      <td>0.0</td>\n",
              "      <td>0.0</td>\n",
              "      <td>0.0</td>\n",
              "      <td>0.0</td>\n",
              "      <td>0.029129</td>\n",
              "      <td>180.536775</td>\n",
              "      <td>0.0</td>\n",
              "      <td>2996.985180</td>\n",
              "      <td>trafico_app_2</td>\n",
              "      <td>usoresto</td>\n",
              "      <td>0</td>\n",
              "    </tr>\n",
              "    <tr>\n",
              "      <th>2</th>\n",
              "      <td>73cec44593f362cccdb45773197a0bf2136978cb241c91...</td>\n",
              "      <td>tipo1</td>\n",
              "      <td>medio</td>\n",
              "      <td>2a1022b922f5038bc5bff79ff2960cd12cf266647b4f59...</td>\n",
              "      <td>76df0c6db32d4e04e0ef6a3a6a1e1686677e34308d9435...</td>\n",
              "      <td>fb8e9c929bbc4ccaebcf8d68296c419464bdfaf01a6970...</td>\n",
              "      <td>SMARTPHONE</td>\n",
              "      <td>noinfo</td>\n",
              "      <td>noinfo</td>\n",
              "      <td>noinfo</td>\n",
              "      <td>noinfo</td>\n",
              "      <td>noinfo</td>\n",
              "      <td>noinfo</td>\n",
              "      <td>noinfo</td>\n",
              "      <td>noinfo</td>\n",
              "      <td>noinfo</td>\n",
              "      <td>noinfo</td>\n",
              "      <td>noinfo</td>\n",
              "      <td>noinfo</td>\n",
              "      <td>a9d0bcb92394bd06ed0e020135054d2dbf3e512fdf0b7f...</td>\n",
              "      <td>e159ded5abcf126e18b05856319e4a4ee58a3267f298fd...</td>\n",
              "      <td>1</td>\n",
              "      <td>0</td>\n",
              "      <td>0</td>\n",
              "      <td>1</td>\n",
              "      <td>0</td>\n",
              "      <td>0</td>\n",
              "      <td>1</td>\n",
              "      <td>0</td>\n",
              "      <td>0</td>\n",
              "      <td>0</td>\n",
              "      <td>0</td>\n",
              "      <td>1</td>\n",
              "      <td>NO_INFORMACION</td>\n",
              "      <td>PROPIO</td>\n",
              "      <td>0.0</td>\n",
              "      <td>0.00</td>\n",
              "      <td>5997</td>\n",
              "      <td>1145</td>\n",
              "      <td>740</td>\n",
              "      <td>481.983333</td>\n",
              "      <td>299.100000</td>\n",
              "      <td>conflg_04</td>\n",
              "      <td>74.277843</td>\n",
              "      <td>1311.141026</td>\n",
              "      <td>0.0</td>\n",
              "      <td>0.0</td>\n",
              "      <td>0.0</td>\n",
              "      <td>0.0</td>\n",
              "      <td>12.869561</td>\n",
              "      <td>980.521564</td>\n",
              "      <td>0.0</td>\n",
              "      <td>2238.233796</td>\n",
              "      <td>trafico_app_2</td>\n",
              "      <td>usopreferido</td>\n",
              "      <td>0</td>\n",
              "    </tr>\n",
              "    <tr>\n",
              "      <th>3</th>\n",
              "      <td>db86e518af696d60b247466fd1bb5823cf81a9442c16b2...</td>\n",
              "      <td>tipo2</td>\n",
              "      <td>NOINFORMACION</td>\n",
              "      <td>NOINFORMACION</td>\n",
              "      <td>NOINFORMACION</td>\n",
              "      <td>NOINFORMACION</td>\n",
              "      <td>NOINFORMACION</td>\n",
              "      <td>noinfo</td>\n",
              "      <td>noinfo</td>\n",
              "      <td>noinfo</td>\n",
              "      <td>noinfo</td>\n",
              "      <td>noinfo</td>\n",
              "      <td>noinfo</td>\n",
              "      <td>noinfo</td>\n",
              "      <td>noinfo</td>\n",
              "      <td>noinfo</td>\n",
              "      <td>noinfo</td>\n",
              "      <td>noinfo</td>\n",
              "      <td>noinfo</td>\n",
              "      <td>a9d0bcb92394bd06ed0e020135054d2dbf3e512fdf0b7f...</td>\n",
              "      <td>e159ded5abcf126e18b05856319e4a4ee58a3267f298fd...</td>\n",
              "      <td>1</td>\n",
              "      <td>0</td>\n",
              "      <td>0</td>\n",
              "      <td>0</td>\n",
              "      <td>0</td>\n",
              "      <td>0</td>\n",
              "      <td>0</td>\n",
              "      <td>0</td>\n",
              "      <td>0</td>\n",
              "      <td>0</td>\n",
              "      <td>0</td>\n",
              "      <td>0</td>\n",
              "      <td>NO_INFORMACION</td>\n",
              "      <td>PROPIO</td>\n",
              "      <td>0.0</td>\n",
              "      <td>0.00</td>\n",
              "      <td>5997</td>\n",
              "      <td>1145</td>\n",
              "      <td>916</td>\n",
              "      <td>0.016667</td>\n",
              "      <td>0.000000</td>\n",
              "      <td>conflg_06</td>\n",
              "      <td>0.000000</td>\n",
              "      <td>0.000000</td>\n",
              "      <td>0.0</td>\n",
              "      <td>0.0</td>\n",
              "      <td>0.0</td>\n",
              "      <td>0.0</td>\n",
              "      <td>0.000000</td>\n",
              "      <td>0.000000</td>\n",
              "      <td>0.0</td>\n",
              "      <td>0.000000</td>\n",
              "      <td>ninguna</td>\n",
              "      <td>usoresto</td>\n",
              "      <td>0</td>\n",
              "    </tr>\n",
              "    <tr>\n",
              "      <th>4</th>\n",
              "      <td>90d5ab1ad28da36b0fa821759b0a9df2b248dc92a557a5...</td>\n",
              "      <td>tipo1</td>\n",
              "      <td>alto</td>\n",
              "      <td>2a1022b922f5038bc5bff79ff2960cd12cf266647b4f59...</td>\n",
              "      <td>dc937b59892604f5a86ac96936cd7ff09e25f18ae6b758...</td>\n",
              "      <td>fb8e9c929bbc4ccaebcf8d68296c419464bdfaf01a6970...</td>\n",
              "      <td>SMARTPHONE</td>\n",
              "      <td>noinfo</td>\n",
              "      <td>noinfo</td>\n",
              "      <td>noinfo</td>\n",
              "      <td>noinfo</td>\n",
              "      <td>noinfo</td>\n",
              "      <td>noinfo</td>\n",
              "      <td>noinfo</td>\n",
              "      <td>noinfo</td>\n",
              "      <td>noinfo</td>\n",
              "      <td>noinfo</td>\n",
              "      <td>noinfo</td>\n",
              "      <td>noinfo</td>\n",
              "      <td>a9d0bcb92394bd06ed0e020135054d2dbf3e512fdf0b7f...</td>\n",
              "      <td>e159ded5abcf126e18b05856319e4a4ee58a3267f298fd...</td>\n",
              "      <td>1</td>\n",
              "      <td>0</td>\n",
              "      <td>0</td>\n",
              "      <td>0</td>\n",
              "      <td>0</td>\n",
              "      <td>0</td>\n",
              "      <td>0</td>\n",
              "      <td>0</td>\n",
              "      <td>0</td>\n",
              "      <td>0</td>\n",
              "      <td>0</td>\n",
              "      <td>1</td>\n",
              "      <td>NO_INFORMACION</td>\n",
              "      <td>PROPIO</td>\n",
              "      <td>0.0</td>\n",
              "      <td>0.00</td>\n",
              "      <td>5997</td>\n",
              "      <td>1145</td>\n",
              "      <td>916</td>\n",
              "      <td>205.416667</td>\n",
              "      <td>291.983333</td>\n",
              "      <td>conflg_03</td>\n",
              "      <td>25.465849</td>\n",
              "      <td>288.978822</td>\n",
              "      <td>0.0</td>\n",
              "      <td>0.0</td>\n",
              "      <td>0.0</td>\n",
              "      <td>0.0</td>\n",
              "      <td>1.113294</td>\n",
              "      <td>37.027894</td>\n",
              "      <td>0.0</td>\n",
              "      <td>97.467674</td>\n",
              "      <td>trafico_app_2</td>\n",
              "      <td>usopreferido</td>\n",
              "      <td>0</td>\n",
              "    </tr>\n",
              "  </tbody>\n",
              "</table>\n",
              "</div>\n",
              "      <button class=\"colab-df-convert\" onclick=\"convertToInteractive('df-9a075f43-8bca-452f-b5ea-0b5e870f8919')\"\n",
              "              title=\"Convert this dataframe to an interactive table.\"\n",
              "              style=\"display:none;\">\n",
              "        \n",
              "  <svg xmlns=\"http://www.w3.org/2000/svg\" height=\"24px\"viewBox=\"0 0 24 24\"\n",
              "       width=\"24px\">\n",
              "    <path d=\"M0 0h24v24H0V0z\" fill=\"none\"/>\n",
              "    <path d=\"M18.56 5.44l.94 2.06.94-2.06 2.06-.94-2.06-.94-.94-2.06-.94 2.06-2.06.94zm-11 1L8.5 8.5l.94-2.06 2.06-.94-2.06-.94L8.5 2.5l-.94 2.06-2.06.94zm10 10l.94 2.06.94-2.06 2.06-.94-2.06-.94-.94-2.06-.94 2.06-2.06.94z\"/><path d=\"M17.41 7.96l-1.37-1.37c-.4-.4-.92-.59-1.43-.59-.52 0-1.04.2-1.43.59L10.3 9.45l-7.72 7.72c-.78.78-.78 2.05 0 2.83L4 21.41c.39.39.9.59 1.41.59.51 0 1.02-.2 1.41-.59l7.78-7.78 2.81-2.81c.8-.78.8-2.07 0-2.86zM5.41 20L4 18.59l7.72-7.72 1.47 1.35L5.41 20z\"/>\n",
              "  </svg>\n",
              "      </button>\n",
              "      \n",
              "  <style>\n",
              "    .colab-df-container {\n",
              "      display:flex;\n",
              "      flex-wrap:wrap;\n",
              "      gap: 12px;\n",
              "    }\n",
              "\n",
              "    .colab-df-convert {\n",
              "      background-color: #E8F0FE;\n",
              "      border: none;\n",
              "      border-radius: 50%;\n",
              "      cursor: pointer;\n",
              "      display: none;\n",
              "      fill: #1967D2;\n",
              "      height: 32px;\n",
              "      padding: 0 0 0 0;\n",
              "      width: 32px;\n",
              "    }\n",
              "\n",
              "    .colab-df-convert:hover {\n",
              "      background-color: #E2EBFA;\n",
              "      box-shadow: 0px 1px 2px rgba(60, 64, 67, 0.3), 0px 1px 3px 1px rgba(60, 64, 67, 0.15);\n",
              "      fill: #174EA6;\n",
              "    }\n",
              "\n",
              "    [theme=dark] .colab-df-convert {\n",
              "      background-color: #3B4455;\n",
              "      fill: #D2E3FC;\n",
              "    }\n",
              "\n",
              "    [theme=dark] .colab-df-convert:hover {\n",
              "      background-color: #434B5C;\n",
              "      box-shadow: 0px 1px 3px 1px rgba(0, 0, 0, 0.15);\n",
              "      filter: drop-shadow(0px 1px 2px rgba(0, 0, 0, 0.3));\n",
              "      fill: #FFFFFF;\n",
              "    }\n",
              "  </style>\n",
              "\n",
              "      <script>\n",
              "        const buttonEl =\n",
              "          document.querySelector('#df-9a075f43-8bca-452f-b5ea-0b5e870f8919 button.colab-df-convert');\n",
              "        buttonEl.style.display =\n",
              "          google.colab.kernel.accessAllowed ? 'block' : 'none';\n",
              "\n",
              "        async function convertToInteractive(key) {\n",
              "          const element = document.querySelector('#df-9a075f43-8bca-452f-b5ea-0b5e870f8919');\n",
              "          const dataTable =\n",
              "            await google.colab.kernel.invokeFunction('convertToInteractive',\n",
              "                                                     [key], {});\n",
              "          if (!dataTable) return;\n",
              "\n",
              "          const docLinkHtml = 'Like what you see? Visit the ' +\n",
              "            '<a target=\"_blank\" href=https://colab.research.google.com/notebooks/data_table.ipynb>data table notebook</a>'\n",
              "            + ' to learn more about interactive tables.';\n",
              "          element.innerHTML = '';\n",
              "          dataTable['output_type'] = 'display_data';\n",
              "          await google.colab.output.renderOutput(dataTable, element);\n",
              "          const docLink = document.createElement('div');\n",
              "          docLink.innerHTML = docLinkHtml;\n",
              "          element.appendChild(docLink);\n",
              "        }\n",
              "      </script>\n",
              "    </div>\n",
              "  </div>\n",
              "  "
            ]
          },
          "metadata": {},
          "execution_count": 7
        }
      ]
    },
    {
      "cell_type": "code",
      "source": [
        "cat_features = [\"TIPO_ADQ\",\"SCORECAT\",\n",
        "## \"MODELO\",\n",
        "\"MARCA\", \"NUEVA_GAMMA\",\"OS\",\"DEVICE_TYPE\",\n",
        "\"GIRO\",\"SUBGIRO\",\n",
        "\"TIENE_PROD_1\",\"TIENE_PROD_2\",\n",
        "\"CAT_VARIACION_MINFLU1\" , \"CAT_VARIACION_MINFLU2\" , \n",
        "\"CAT_VARIACION_APP1\"    , \"CAT_VARIACION_APP2\"    , \"CAT_VARIACION_APP3\" , \n",
        "\"CAT_VARIACION_APP4\"    , \"CAT_VARIACION_APP5\"    , \"CAT_VARIACION_APP6\" ,\n",
        "\"CAT_VARIACION_APP7\"    , \"CAT_VARIACION_APP8\"    , \"CAT_VARIACION_APP9\" ,\n",
        "\"CAT_VARIACION_RESTO\"   ,\n",
        "\n",
        "## \"TIENE_PROD_3\",\n",
        "\"FLG_GRUPO1\", \"FLG_GRUPO2\",\"FLG_GRUPO4\",\"FLG_GRUPO6\",\"FLG_GRUPO7\" ,\n",
        "## \"FLG_GRUPO3\", \"FLG_GRUPO5\", \"FLG_GRUPO8\" ,\n",
        "\"FLG_GRUPO9\",\"FLG_GRUPO10\",\"FLG_GRUPO11\",\"FLG_GRUPO16\", \"FLG_TARGETPREV\",\"TIPOEQUIPO\" , \"apptoppreferida\" , \"flgusopreferente\" , \"flg_flujo\"]"
      ],
      "metadata": {
        "id": "qjJzyLZ1YR_X"
      },
      "execution_count": 8,
      "outputs": []
    },
    {
      "cell_type": "code",
      "source": [
        "data   = dfTrain.drop(['nro_telefono_hash','TARGET'  , 'TIENE_PROD_3' ], axis=1)\n",
        "data[cat_features] = data[cat_features].astype(str)\n",
        "target = dfTrain['TARGET']"
      ],
      "metadata": {
        "id": "f8LJegkiXK6l"
      },
      "execution_count": 9,
      "outputs": []
    },
    {
      "cell_type": "code",
      "source": [
        "X_test = dfSubmit.drop(['nro_telefono_hash','TARGET'  , 'TIENE_PROD_3' ], axis=1)\n",
        "X_test[cat_features] = X_test[cat_features].astype(str)\n",
        "test_data = Pool(data=X_test,cat_features=cat_features)"
      ],
      "metadata": {
        "id": "wkECt8olYUdM"
      },
      "execution_count": 10,
      "outputs": []
    },
    {
      "cell_type": "code",
      "source": [
        "print(\"Cantidad de Renovados    : {}\".format(sum(target==1)))\n",
        "print(\"Cantidad de No Renovados : {} \\n\".format(sum(target==0)))"
      ],
      "metadata": {
        "colab": {
          "base_uri": "https://localhost:8080/"
        },
        "id": "NGY1KGmcXK9E",
        "outputId": "dbd418f8-1229-4804-8088-47abea44f65f"
      },
      "execution_count": 11,
      "outputs": [
        {
          "output_type": "stream",
          "name": "stdout",
          "text": [
            "Cantidad de Renovados    : 16419\n",
            "Cantidad de No Renovados : 529873 \n",
            "\n"
          ]
        }
      ]
    },
    {
      "cell_type": "code",
      "source": [
        "529873  / 16419"
      ],
      "metadata": {
        "colab": {
          "base_uri": "https://localhost:8080/"
        },
        "id": "nWhpUmo_YnBp",
        "outputId": "a9ccd1e5-d9bf-4daf-d04c-0186f71c8753"
      },
      "execution_count": 12,
      "outputs": [
        {
          "output_type": "execute_result",
          "data": {
            "text/plain": [
              "32.27194104391254"
            ]
          },
          "metadata": {},
          "execution_count": 12
        }
      ]
    },
    {
      "cell_type": "code",
      "source": [
        "# N_FOLDS               = 10\n",
        "SEED                  = 2022\n",
        "EARLY_STOPPING_ROUNDS = 100\n",
        "VERBOSE               = 100"
      ],
      "metadata": {
        "id": "J_IbRUeyXLGp"
      },
      "execution_count": 13,
      "outputs": []
    },
    {
      "cell_type": "code",
      "source": [
        ""
      ],
      "metadata": {
        "id": "ZviLNnzfJtt2"
      },
      "execution_count": 13,
      "outputs": []
    },
    {
      "cell_type": "code",
      "source": [
        "### Depth "
      ],
      "metadata": {
        "id": "dZoyLI5EKY3I"
      },
      "execution_count": 14,
      "outputs": []
    },
    {
      "cell_type": "code",
      "source": [
        "# params = {'loss_function': 'Logloss',     # objective function\n",
        "#           'eval_metric'  : 'AUC',           # metric\n",
        "#           'cat_features' : cat_features,  # categorical columns\n",
        "#         #  'early_stopping_rounds': 200  ,  # maximun interations to look for improvement\n",
        "#         #  'verbose'              : 200  ,                # output to stdout info about training process every 200 iterations\n",
        "#           'scale_pos_weight'     : 32     ,  ## 32\n",
        "#           'random_seed'          : 1      ,\n",
        "#           'learning_rate'        : 0.01   ,\n",
        "#           'iterations'           : 1000   ,\n",
        "#           'depth'                : 5      ,\n",
        "#           'l2_leaf_reg'          : 10     , \n",
        "#           'task_type'            : 'GPU'  \n",
        "#          }\n",
        "\n",
        "\n",
        "# N_FOLDS = 10\n",
        "\n",
        "# oof  = np.zeros(dfTrain.shape[0])\n",
        "# oof2 = np.zeros(dfTrain.shape[0])\n",
        "# pred = 0\n",
        "# skf  = StratifiedKFold(n_splits = N_FOLDS , shuffle = True , random_state = SEED)\n",
        "\n",
        "\n",
        "# for fold , (trn_idx , val_idx) in enumerate(skf.split(data , target)):\n",
        "#     print(f'========FOLD{fold}========')\n",
        "    \n",
        "#     train_x = data.iloc[trn_idx]\n",
        "#     train_y = target.iloc[trn_idx]\n",
        "#     val_x   = data.iloc[val_idx]\n",
        "#     val_y   = target.iloc[val_idx]\n",
        "    \n",
        "#     model   = CatBoostClassifier(**params)\n",
        "#     model.fit( train_x , train_y,\n",
        "#                eval_set = [(val_x,val_y)],              \n",
        "#                use_best_model = True ,\n",
        "#                early_stopping_rounds = EARLY_STOPPING_ROUNDS,\n",
        "#                verbose = VERBOSE\n",
        "#              )\n",
        "#     oof[val_idx]  = model.predict_proba(val_x)[: , 1]\n",
        "#     oof2[trn_idx] = model.predict_proba(train_x)[: , 1]\n",
        "    \n",
        "    \n",
        "#     pred += model.predict_proba(test_data)[: , 1]/N_FOLDS\n",
        "#     score  = roc_auc_score(val_y , oof[val_idx]  , average = 'micro')\n",
        "#     score2 = roc_auc_score(train_y , oof2[trn_idx] , average = 'micro')\n",
        "#     print(f'FOLD {fold}  AUCTRAINING {score2}  AUC {score} \\n')\n",
        "    \n",
        "# score = roc_auc_score(target , oof , average = 'micro')\n",
        "# print(f'AUC {score}\\n')         "
      ],
      "metadata": {
        "id": "CS-MU1cBA4T6"
      },
      "execution_count": 15,
      "outputs": []
    },
    {
      "cell_type": "code",
      "source": [
        "params = {'loss_function': 'Logloss',     # objective function\n",
        "          'eval_metric'  : 'AUC',           # metric\n",
        "          'cat_features' : cat_features,  # categorical columns\n",
        "        #  'early_stopping_rounds': 200  ,  # maximun interations to look for improvement\n",
        "        #  'verbose'              : 200  ,                # output to stdout info about training process every 200 iterations\n",
        "          'scale_pos_weight'     : 32     ,  ## 32\n",
        "          'random_seed'          : 1      ,\n",
        "          'learning_rate'        : 0.02   ,\n",
        "          'iterations'           : 1500   ,\n",
        "          'depth'                : 5      ,\n",
        "          'l2_leaf_reg'          : 10     , \n",
        "          'task_type'            : 'GPU'  \n",
        "         }\n",
        "\n",
        "\n",
        "N_FOLDS = 10\n",
        "\n",
        "oof  = np.zeros(dfTrain.shape[0])\n",
        "oof2 = np.zeros(dfTrain.shape[0])\n",
        "pred = 0\n",
        "skf  = StratifiedKFold(n_splits = N_FOLDS , shuffle = True , random_state = SEED)\n",
        "\n",
        "\n",
        "for fold , (trn_idx , val_idx) in enumerate(skf.split(data , target)):\n",
        "    print(f'========FOLD{fold}========')\n",
        "    \n",
        "    train_x = data.iloc[trn_idx]\n",
        "    train_y = target.iloc[trn_idx]\n",
        "    val_x   = data.iloc[val_idx]\n",
        "    val_y   = target.iloc[val_idx]\n",
        "    \n",
        "    model   = CatBoostClassifier(**params)\n",
        "    model.fit( train_x , train_y,\n",
        "               eval_set = [(val_x,val_y)],              \n",
        "               use_best_model = True ,\n",
        "               early_stopping_rounds = EARLY_STOPPING_ROUNDS,\n",
        "               verbose = VERBOSE\n",
        "             )\n",
        "    oof[val_idx]  = model.predict_proba(val_x)[: , 1]\n",
        "    oof2[trn_idx] = model.predict_proba(train_x)[: , 1]\n",
        "    \n",
        "    \n",
        "    pred += model.predict_proba(test_data)[: , 1]/N_FOLDS\n",
        "    score  = roc_auc_score(val_y , oof[val_idx]  , average = 'micro')\n",
        "    score2 = roc_auc_score(train_y , oof2[trn_idx] , average = 'micro')\n",
        "    print(f'FOLD {fold}  AUCTRAINING {score2}  AUC {score} \\n')\n",
        "    \n",
        "score = roc_auc_score(target , oof , average = 'micro')\n",
        "print(f'AUC {score}\\n')         "
      ],
      "metadata": {
        "colab": {
          "base_uri": "https://localhost:8080/"
        },
        "id": "ziRiHVb1Ozr5",
        "outputId": "f0f36602-8b13-4a62-de12-9ccfeec4621a"
      },
      "execution_count": 16,
      "outputs": [
        {
          "metadata": {
            "tags": null
          },
          "name": "stdout",
          "output_type": "stream",
          "text": [
            "========FOLD0========\n"
          ]
        },
        {
          "metadata": {
            "tags": null
          },
          "name": "stderr",
          "output_type": "stream",
          "text": [
            "Default metric period is 5 because AUC is/are not implemented for GPU\n"
          ]
        },
        {
          "metadata": {
            "tags": null
          },
          "name": "stdout",
          "output_type": "stream",
          "text": [
            "0:\ttest: 0.7544736\tbest: 0.7544736 (0)\ttotal: 117ms\tremaining: 2m 55s\n",
            "100:\ttest: 0.7763775\tbest: 0.7763775 (100)\ttotal: 9.28s\tremaining: 2m 8s\n",
            "200:\ttest: 0.7813691\tbest: 0.7813691 (200)\ttotal: 18.4s\tremaining: 1m 58s\n",
            "300:\ttest: 0.7830561\tbest: 0.7830650 (295)\ttotal: 27.5s\tremaining: 1m 49s\n",
            "400:\ttest: 0.7836687\tbest: 0.7837054 (395)\ttotal: 36.5s\tremaining: 1m 40s\n",
            "500:\ttest: 0.7841204\tbest: 0.7841322 (495)\ttotal: 45.7s\tremaining: 1m 31s\n",
            "600:\ttest: 0.7846447\tbest: 0.7846717 (590)\ttotal: 55.8s\tremaining: 1m 23s\n",
            "700:\ttest: 0.7852227\tbest: 0.7852331 (696)\ttotal: 1m 5s\tremaining: 1m 14s\n",
            "800:\ttest: 0.7854319\tbest: 0.7854565 (798)\ttotal: 1m 14s\tremaining: 1m 4s\n",
            "900:\ttest: 0.7855613\tbest: 0.7855684 (899)\ttotal: 1m 23s\tremaining: 55.5s\n",
            "1000:\ttest: 0.7857690\tbest: 0.7857690 (1000)\ttotal: 1m 33s\tremaining: 46.4s\n",
            "1100:\ttest: 0.7859577\tbest: 0.7860134 (1088)\ttotal: 1m 42s\tremaining: 37.2s\n",
            "1200:\ttest: 0.7861422\tbest: 0.7861956 (1179)\ttotal: 1m 51s\tremaining: 27.9s\n",
            "1300:\ttest: 0.7863067\tbest: 0.7864006 (1285)\ttotal: 2m 1s\tremaining: 18.5s\n",
            "1400:\ttest: 0.7864698\tbest: 0.7864899 (1341)\ttotal: 2m 10s\tremaining: 9.23s\n",
            "1499:\ttest: 0.7865653\tbest: 0.7865801 (1435)\ttotal: 2m 19s\tremaining: 0us\n",
            "bestTest = 0.7865801156\n",
            "bestIteration = 1435\n",
            "Shrink model to first 1436 iterations.\n",
            "FOLD 0  AUCTRAINING 0.8147515951253689  AUC 0.7865801918518631 \n",
            "\n",
            "========FOLD1========\n"
          ]
        },
        {
          "metadata": {
            "tags": null
          },
          "name": "stderr",
          "output_type": "stream",
          "text": [
            "Default metric period is 5 because AUC is/are not implemented for GPU\n"
          ]
        },
        {
          "metadata": {
            "tags": null
          },
          "name": "stdout",
          "output_type": "stream",
          "text": [
            "0:\ttest: 0.7543350\tbest: 0.7543350 (0)\ttotal: 118ms\tremaining: 2m 56s\n",
            "100:\ttest: 0.7701053\tbest: 0.7701053 (100)\ttotal: 9.39s\tremaining: 2m 10s\n",
            "200:\ttest: 0.7758684\tbest: 0.7758684 (200)\ttotal: 18.7s\tremaining: 2m\n",
            "300:\ttest: 0.7775426\tbest: 0.7775426 (300)\ttotal: 28.4s\tremaining: 1m 53s\n",
            "400:\ttest: 0.7789610\tbest: 0.7790156 (396)\ttotal: 37.7s\tremaining: 1m 43s\n",
            "500:\ttest: 0.7797493\tbest: 0.7797541 (499)\ttotal: 47.1s\tremaining: 1m 33s\n",
            "600:\ttest: 0.7803202\tbest: 0.7803636 (574)\ttotal: 56.3s\tremaining: 1m 24s\n",
            "700:\ttest: 0.7811208\tbest: 0.7811363 (699)\ttotal: 1m 6s\tremaining: 1m 15s\n",
            "800:\ttest: 0.7814574\tbest: 0.7815287 (771)\ttotal: 1m 15s\tremaining: 1m 5s\n",
            "900:\ttest: 0.7819191\tbest: 0.7819299 (896)\ttotal: 1m 25s\tremaining: 56.8s\n",
            "1000:\ttest: 0.7823154\tbest: 0.7823371 (997)\ttotal: 1m 34s\tremaining: 47.2s\n",
            "1100:\ttest: 0.7827428\tbest: 0.7827538 (1097)\ttotal: 1m 43s\tremaining: 37.6s\n",
            "1200:\ttest: 0.7832000\tbest: 0.7832289 (1186)\ttotal: 1m 53s\tremaining: 28.2s\n",
            "1300:\ttest: 0.7833947\tbest: 0.7834050 (1299)\ttotal: 2m 2s\tremaining: 18.7s\n",
            "1400:\ttest: 0.7835301\tbest: 0.7835301 (1400)\ttotal: 2m 11s\tremaining: 9.31s\n",
            "1499:\ttest: 0.7838523\tbest: 0.7838523 (1499)\ttotal: 2m 21s\tremaining: 0us\n",
            "bestTest = 0.7838523388\n",
            "bestIteration = 1499\n",
            "FOLD 1  AUCTRAINING 0.8178002482384653  AUC 0.7838523260431636 \n",
            "\n",
            "========FOLD2========\n"
          ]
        },
        {
          "metadata": {
            "tags": null
          },
          "name": "stderr",
          "output_type": "stream",
          "text": [
            "Default metric period is 5 because AUC is/are not implemented for GPU\n"
          ]
        },
        {
          "metadata": {
            "tags": null
          },
          "name": "stdout",
          "output_type": "stream",
          "text": [
            "0:\ttest: 0.7515498\tbest: 0.7515498 (0)\ttotal: 117ms\tremaining: 2m 55s\n",
            "100:\ttest: 0.7790520\tbest: 0.7790520 (100)\ttotal: 10.1s\tremaining: 2m 20s\n",
            "200:\ttest: 0.7850747\tbest: 0.7850747 (200)\ttotal: 19.5s\tremaining: 2m 5s\n",
            "300:\ttest: 0.7876256\tbest: 0.7876256 (300)\ttotal: 28.8s\tremaining: 1m 54s\n",
            "400:\ttest: 0.7887609\tbest: 0.7887609 (400)\ttotal: 38.2s\tremaining: 1m 44s\n",
            "500:\ttest: 0.7897101\tbest: 0.7897101 (500)\ttotal: 47.6s\tremaining: 1m 34s\n",
            "600:\ttest: 0.7904151\tbest: 0.7904151 (600)\ttotal: 56.9s\tremaining: 1m 25s\n",
            "700:\ttest: 0.7908743\tbest: 0.7908823 (697)\ttotal: 1m 6s\tremaining: 1m 15s\n",
            "800:\ttest: 0.7913419\tbest: 0.7913419 (800)\ttotal: 1m 15s\tremaining: 1m 5s\n",
            "900:\ttest: 0.7916537\tbest: 0.7916853 (898)\ttotal: 1m 24s\tremaining: 56.3s\n",
            "1000:\ttest: 0.7917724\tbest: 0.7918370 (920)\ttotal: 1m 33s\tremaining: 46.8s\n",
            "1100:\ttest: 0.7920703\tbest: 0.7920703 (1100)\ttotal: 1m 44s\tremaining: 37.8s\n",
            "1200:\ttest: 0.7921102\tbest: 0.7921968 (1163)\ttotal: 1m 53s\tremaining: 28.3s\n",
            "1300:\ttest: 0.7922148\tbest: 0.7922695 (1234)\ttotal: 2m 2s\tremaining: 18.8s\n",
            "bestTest = 0.7922695279\n",
            "bestIteration = 1234\n",
            "Shrink model to first 1235 iterations.\n",
            "FOLD 2  AUCTRAINING 0.8113594988680184  AUC 0.7922695419477312 \n",
            "\n",
            "========FOLD3========\n"
          ]
        },
        {
          "metadata": {
            "tags": null
          },
          "name": "stderr",
          "output_type": "stream",
          "text": [
            "Default metric period is 5 because AUC is/are not implemented for GPU\n"
          ]
        },
        {
          "metadata": {
            "tags": null
          },
          "name": "stdout",
          "output_type": "stream",
          "text": [
            "0:\ttest: 0.7443969\tbest: 0.7443969 (0)\ttotal: 118ms\tremaining: 2m 56s\n",
            "100:\ttest: 0.7661868\tbest: 0.7661868 (100)\ttotal: 9.4s\tremaining: 2m 10s\n",
            "200:\ttest: 0.7716896\tbest: 0.7716896 (200)\ttotal: 18.8s\tremaining: 2m 1s\n",
            "300:\ttest: 0.7746285\tbest: 0.7746285 (300)\ttotal: 28.2s\tremaining: 1m 52s\n",
            "400:\ttest: 0.7763039\tbest: 0.7763364 (396)\ttotal: 37.5s\tremaining: 1m 42s\n",
            "500:\ttest: 0.7775313\tbest: 0.7775488 (499)\ttotal: 46.6s\tremaining: 1m 32s\n",
            "600:\ttest: 0.7784871\tbest: 0.7784871 (600)\ttotal: 56.6s\tremaining: 1m 24s\n",
            "700:\ttest: 0.7792141\tbest: 0.7792508 (698)\ttotal: 1m 5s\tremaining: 1m 15s\n",
            "800:\ttest: 0.7795356\tbest: 0.7795356 (800)\ttotal: 1m 15s\tremaining: 1m 5s\n",
            "900:\ttest: 0.7802393\tbest: 0.7802393 (900)\ttotal: 1m 24s\tremaining: 56s\n",
            "1000:\ttest: 0.7806748\tbest: 0.7807079 (992)\ttotal: 1m 33s\tremaining: 46.6s\n",
            "1100:\ttest: 0.7810973\tbest: 0.7811015 (1099)\ttotal: 1m 42s\tremaining: 37.3s\n",
            "1200:\ttest: 0.7815733\tbest: 0.7815733 (1200)\ttotal: 1m 52s\tremaining: 27.9s\n",
            "1300:\ttest: 0.7818165\tbest: 0.7818359 (1298)\ttotal: 2m 1s\tremaining: 18.6s\n",
            "1400:\ttest: 0.7822177\tbest: 0.7822364 (1398)\ttotal: 2m 10s\tremaining: 9.24s\n",
            "1499:\ttest: 0.7823676\tbest: 0.7824585 (1478)\ttotal: 2m 19s\tremaining: 0us\n",
            "bestTest = 0.7824584544\n",
            "bestIteration = 1478\n",
            "Shrink model to first 1479 iterations.\n",
            "FOLD 3  AUCTRAINING 0.8157421093820001  AUC 0.7824585165294722 \n",
            "\n",
            "========FOLD4========\n"
          ]
        },
        {
          "metadata": {
            "tags": null
          },
          "name": "stderr",
          "output_type": "stream",
          "text": [
            "Default metric period is 5 because AUC is/are not implemented for GPU\n"
          ]
        },
        {
          "metadata": {
            "tags": null
          },
          "name": "stdout",
          "output_type": "stream",
          "text": [
            "0:\ttest: 0.7447235\tbest: 0.7447235 (0)\ttotal: 120ms\tremaining: 2m 59s\n",
            "100:\ttest: 0.7653225\tbest: 0.7653225 (100)\ttotal: 9.33s\tremaining: 2m 9s\n",
            "200:\ttest: 0.7717609\tbest: 0.7717609 (200)\ttotal: 18.7s\tremaining: 2m\n",
            "300:\ttest: 0.7748275\tbest: 0.7748275 (300)\ttotal: 28s\tremaining: 1m 51s\n",
            "400:\ttest: 0.7771001\tbest: 0.7771001 (400)\ttotal: 37.3s\tremaining: 1m 42s\n",
            "500:\ttest: 0.7783255\tbest: 0.7783340 (499)\ttotal: 46.6s\tremaining: 1m 32s\n",
            "600:\ttest: 0.7793289\tbest: 0.7793289 (600)\ttotal: 55.8s\tremaining: 1m 23s\n",
            "700:\ttest: 0.7802692\tbest: 0.7802692 (700)\ttotal: 1m 4s\tremaining: 1m 14s\n",
            "800:\ttest: 0.7811520\tbest: 0.7811520 (800)\ttotal: 1m 15s\tremaining: 1m 5s\n",
            "900:\ttest: 0.7817686\tbest: 0.7818095 (888)\ttotal: 1m 24s\tremaining: 56s\n",
            "1000:\ttest: 0.7824348\tbest: 0.7824379 (997)\ttotal: 1m 33s\tremaining: 46.6s\n",
            "1100:\ttest: 0.7828132\tbest: 0.7828407 (1099)\ttotal: 1m 42s\tremaining: 37.3s\n",
            "1200:\ttest: 0.7831622\tbest: 0.7831622 (1200)\ttotal: 1m 52s\tremaining: 27.9s\n",
            "1300:\ttest: 0.7834855\tbest: 0.7835562 (1286)\ttotal: 2m 1s\tremaining: 18.6s\n",
            "1400:\ttest: 0.7838483\tbest: 0.7838483 (1400)\ttotal: 2m 10s\tremaining: 9.24s\n",
            "1499:\ttest: 0.7842087\tbest: 0.7842240 (1484)\ttotal: 2m 20s\tremaining: 0us\n",
            "bestTest = 0.7842240036\n",
            "bestIteration = 1484\n",
            "Shrink model to first 1485 iterations.\n",
            "FOLD 4  AUCTRAINING 0.8153093795607631  AUC 0.7842239623181537 \n",
            "\n",
            "========FOLD5========\n"
          ]
        },
        {
          "metadata": {
            "tags": null
          },
          "name": "stderr",
          "output_type": "stream",
          "text": [
            "Default metric period is 5 because AUC is/are not implemented for GPU\n"
          ]
        },
        {
          "metadata": {
            "tags": null
          },
          "name": "stdout",
          "output_type": "stream",
          "text": [
            "0:\ttest: 0.7441329\tbest: 0.7441329 (0)\ttotal: 188ms\tremaining: 4m 42s\n",
            "100:\ttest: 0.7701256\tbest: 0.7701256 (100)\ttotal: 9.47s\tremaining: 2m 11s\n",
            "200:\ttest: 0.7763322\tbest: 0.7763322 (200)\ttotal: 18.9s\tremaining: 2m 1s\n",
            "300:\ttest: 0.7789234\tbest: 0.7789234 (300)\ttotal: 28.1s\tremaining: 1m 51s\n",
            "400:\ttest: 0.7805058\tbest: 0.7805505 (399)\ttotal: 37.5s\tremaining: 1m 42s\n",
            "500:\ttest: 0.7814674\tbest: 0.7814674 (500)\ttotal: 46.7s\tremaining: 1m 33s\n",
            "600:\ttest: 0.7822094\tbest: 0.7822094 (600)\ttotal: 55.8s\tremaining: 1m 23s\n",
            "700:\ttest: 0.7830488\tbest: 0.7830590 (695)\ttotal: 1m 5s\tremaining: 1m 14s\n",
            "800:\ttest: 0.7836519\tbest: 0.7836770 (798)\ttotal: 1m 14s\tremaining: 1m 4s\n",
            "900:\ttest: 0.7842526\tbest: 0.7842526 (900)\ttotal: 1m 23s\tremaining: 55.5s\n",
            "1000:\ttest: 0.7845909\tbest: 0.7846244 (998)\ttotal: 1m 32s\tremaining: 46.3s\n",
            "1100:\ttest: 0.7849194\tbest: 0.7849423 (1098)\ttotal: 1m 43s\tremaining: 37.3s\n",
            "1200:\ttest: 0.7852978\tbest: 0.7853116 (1196)\ttotal: 1m 52s\tremaining: 27.9s\n",
            "1300:\ttest: 0.7856405\tbest: 0.7856460 (1295)\ttotal: 2m 1s\tremaining: 18.6s\n",
            "1400:\ttest: 0.7858961\tbest: 0.7859008 (1394)\ttotal: 2m 10s\tremaining: 9.24s\n",
            "1499:\ttest: 0.7860232\tbest: 0.7860590 (1439)\ttotal: 2m 19s\tremaining: 0us\n",
            "bestTest = 0.7860589623\n",
            "bestIteration = 1439\n",
            "Shrink model to first 1440 iterations.\n",
            "FOLD 5  AUCTRAINING 0.8134412300179767  AUC 0.7860589963382878 \n",
            "\n",
            "========FOLD6========\n"
          ]
        },
        {
          "metadata": {
            "tags": null
          },
          "name": "stderr",
          "output_type": "stream",
          "text": [
            "Default metric period is 5 because AUC is/are not implemented for GPU\n"
          ]
        },
        {
          "metadata": {
            "tags": null
          },
          "name": "stdout",
          "output_type": "stream",
          "text": [
            "0:\ttest: 0.7533540\tbest: 0.7533540 (0)\ttotal: 118ms\tremaining: 2m 56s\n",
            "100:\ttest: 0.7761020\tbest: 0.7761020 (100)\ttotal: 9.33s\tremaining: 2m 9s\n",
            "200:\ttest: 0.7817926\tbest: 0.7817926 (200)\ttotal: 18.7s\tremaining: 2m\n",
            "300:\ttest: 0.7847454\tbest: 0.7847454 (300)\ttotal: 28.6s\tremaining: 1m 54s\n",
            "400:\ttest: 0.7865379\tbest: 0.7865379 (400)\ttotal: 38s\tremaining: 1m 44s\n",
            "500:\ttest: 0.7879759\tbest: 0.7879975 (498)\ttotal: 47.2s\tremaining: 1m 34s\n",
            "600:\ttest: 0.7890364\tbest: 0.7890364 (600)\ttotal: 56.4s\tremaining: 1m 24s\n",
            "700:\ttest: 0.7900428\tbest: 0.7900428 (700)\ttotal: 1m 5s\tremaining: 1m 14s\n",
            "800:\ttest: 0.7912230\tbest: 0.7912230 (800)\ttotal: 1m 15s\tremaining: 1m 6s\n",
            "900:\ttest: 0.7921543\tbest: 0.7921543 (900)\ttotal: 1m 28s\tremaining: 58.8s\n",
            "1000:\ttest: 0.7927553\tbest: 0.7927818 (994)\ttotal: 1m 37s\tremaining: 48.7s\n",
            "1100:\ttest: 0.7936445\tbest: 0.7936445 (1100)\ttotal: 1m 47s\tremaining: 38.8s\n",
            "1200:\ttest: 0.7944224\tbest: 0.7944595 (1199)\ttotal: 1m 56s\tremaining: 28.9s\n",
            "1300:\ttest: 0.7949419\tbest: 0.7949599 (1285)\ttotal: 2m 6s\tremaining: 19.3s\n",
            "1400:\ttest: 0.7954369\tbest: 0.7954369 (1400)\ttotal: 2m 15s\tremaining: 9.59s\n",
            "1499:\ttest: 0.7958390\tbest: 0.7958390 (1499)\ttotal: 2m 24s\tremaining: 0us\n",
            "bestTest = 0.7958390415\n",
            "bestIteration = 1499\n",
            "FOLD 6  AUCTRAINING 0.8158420607166241  AUC 0.7958390536212006 \n",
            "\n",
            "========FOLD7========\n"
          ]
        },
        {
          "metadata": {
            "tags": null
          },
          "name": "stderr",
          "output_type": "stream",
          "text": [
            "Default metric period is 5 because AUC is/are not implemented for GPU\n"
          ]
        },
        {
          "metadata": {
            "tags": null
          },
          "name": "stdout",
          "output_type": "stream",
          "text": [
            "0:\ttest: 0.7483124\tbest: 0.7483124 (0)\ttotal: 117ms\tremaining: 2m 55s\n",
            "100:\ttest: 0.7762811\tbest: 0.7762811 (100)\ttotal: 9.35s\tremaining: 2m 9s\n",
            "200:\ttest: 0.7841078\tbest: 0.7841078 (200)\ttotal: 18.7s\tremaining: 2m 1s\n",
            "300:\ttest: 0.7868683\tbest: 0.7868853 (298)\ttotal: 28.1s\tremaining: 1m 52s\n",
            "400:\ttest: 0.7887244\tbest: 0.7887325 (399)\ttotal: 37.4s\tremaining: 1m 42s\n",
            "500:\ttest: 0.7899178\tbest: 0.7899278 (499)\ttotal: 46.8s\tremaining: 1m 33s\n",
            "600:\ttest: 0.7910504\tbest: 0.7910717 (599)\ttotal: 56.8s\tremaining: 1m 24s\n",
            "700:\ttest: 0.7916667\tbest: 0.7916667 (700)\ttotal: 1m 5s\tremaining: 1m 15s\n",
            "800:\ttest: 0.7919438\tbest: 0.7919580 (798)\ttotal: 1m 15s\tremaining: 1m 5s\n",
            "900:\ttest: 0.7922697\tbest: 0.7922697 (900)\ttotal: 1m 24s\tremaining: 56.2s\n",
            "1000:\ttest: 0.7924723\tbest: 0.7924723 (1000)\ttotal: 1m 33s\tremaining: 46.7s\n",
            "1100:\ttest: 0.7928678\tbest: 0.7928997 (1088)\ttotal: 1m 43s\tremaining: 37.4s\n",
            "1200:\ttest: 0.7931157\tbest: 0.7931561 (1196)\ttotal: 1m 52s\tremaining: 28s\n",
            "1300:\ttest: 0.7932955\tbest: 0.7933774 (1276)\ttotal: 2m 1s\tremaining: 18.6s\n",
            "1400:\ttest: 0.7935925\tbest: 0.7936005 (1393)\ttotal: 2m 11s\tremaining: 9.26s\n",
            "1499:\ttest: 0.7938983\tbest: 0.7938983 (1499)\ttotal: 2m 20s\tremaining: 0us\n",
            "bestTest = 0.793898344\n",
            "bestIteration = 1499\n",
            "FOLD 7  AUCTRAINING 0.8150465090329047  AUC 0.7938983585866567 \n",
            "\n",
            "========FOLD8========\n"
          ]
        },
        {
          "metadata": {
            "tags": null
          },
          "name": "stderr",
          "output_type": "stream",
          "text": [
            "Default metric period is 5 because AUC is/are not implemented for GPU\n"
          ]
        },
        {
          "metadata": {
            "tags": null
          },
          "name": "stdout",
          "output_type": "stream",
          "text": [
            "0:\ttest: 0.7383283\tbest: 0.7383283 (0)\ttotal: 117ms\tremaining: 2m 55s\n",
            "100:\ttest: 0.7648939\tbest: 0.7648939 (100)\ttotal: 9.37s\tremaining: 2m 9s\n",
            "200:\ttest: 0.7716039\tbest: 0.7716039 (200)\ttotal: 18.7s\tremaining: 2m\n",
            "300:\ttest: 0.7745164\tbest: 0.7745164 (300)\ttotal: 28s\tremaining: 1m 51s\n",
            "400:\ttest: 0.7762520\tbest: 0.7762683 (399)\ttotal: 37.2s\tremaining: 1m 41s\n",
            "500:\ttest: 0.7771621\tbest: 0.7771897 (498)\ttotal: 46.5s\tremaining: 1m 32s\n",
            "600:\ttest: 0.7781591\tbest: 0.7781591 (600)\ttotal: 55.9s\tremaining: 1m 23s\n",
            "700:\ttest: 0.7789088\tbest: 0.7789240 (698)\ttotal: 1m 5s\tremaining: 1m 14s\n",
            "800:\ttest: 0.7794126\tbest: 0.7794126 (800)\ttotal: 1m 15s\tremaining: 1m 5s\n",
            "900:\ttest: 0.7801969\tbest: 0.7802061 (899)\ttotal: 1m 24s\tremaining: 56s\n",
            "1000:\ttest: 0.7805449\tbest: 0.7805660 (998)\ttotal: 1m 33s\tremaining: 46.6s\n",
            "1100:\ttest: 0.7808752\tbest: 0.7810138 (1080)\ttotal: 1m 42s\tremaining: 37.2s\n",
            "1200:\ttest: 0.7812946\tbest: 0.7814009 (1187)\ttotal: 1m 51s\tremaining: 27.9s\n",
            "1300:\ttest: 0.7816624\tbest: 0.7816624 (1300)\ttotal: 2m 1s\tremaining: 18.5s\n",
            "1400:\ttest: 0.7818476\tbest: 0.7819423 (1360)\ttotal: 2m 10s\tremaining: 9.21s\n",
            "bestTest = 0.7819423378\n",
            "bestIteration = 1360\n",
            "Shrink model to first 1361 iterations.\n",
            "FOLD 8  AUCTRAINING 0.813903629507013  AUC 0.7819424177010117 \n",
            "\n",
            "========FOLD9========\n"
          ]
        },
        {
          "metadata": {
            "tags": null
          },
          "name": "stderr",
          "output_type": "stream",
          "text": [
            "Default metric period is 5 because AUC is/are not implemented for GPU\n"
          ]
        },
        {
          "output_type": "stream",
          "name": "stdout",
          "text": [
            "0:\ttest: 0.7359968\tbest: 0.7359968 (0)\ttotal: 117ms\tremaining: 2m 55s\n",
            "100:\ttest: 0.7582852\tbest: 0.7582852 (100)\ttotal: 9.43s\tremaining: 2m 10s\n",
            "200:\ttest: 0.7664645\tbest: 0.7664645 (200)\ttotal: 19.4s\tremaining: 2m 5s\n",
            "300:\ttest: 0.7697791\tbest: 0.7697791 (300)\ttotal: 28.8s\tremaining: 1m 54s\n",
            "400:\ttest: 0.7724479\tbest: 0.7724479 (400)\ttotal: 38.1s\tremaining: 1m 44s\n",
            "500:\ttest: 0.7742446\tbest: 0.7742446 (500)\ttotal: 47.4s\tremaining: 1m 34s\n",
            "600:\ttest: 0.7753986\tbest: 0.7753986 (600)\ttotal: 56.6s\tremaining: 1m 24s\n",
            "700:\ttest: 0.7761440\tbest: 0.7761440 (700)\ttotal: 1m 5s\tremaining: 1m 15s\n",
            "800:\ttest: 0.7765630\tbest: 0.7766252 (769)\ttotal: 1m 15s\tremaining: 1m 5s\n",
            "900:\ttest: 0.7772974\tbest: 0.7773034 (897)\ttotal: 1m 24s\tremaining: 56.1s\n",
            "1000:\ttest: 0.7779219\tbest: 0.7779219 (1000)\ttotal: 1m 33s\tremaining: 46.6s\n",
            "1100:\ttest: 0.7783995\tbest: 0.7784325 (1096)\ttotal: 1m 42s\tremaining: 37.2s\n",
            "1200:\ttest: 0.7786202\tbest: 0.7787055 (1184)\ttotal: 1m 52s\tremaining: 28s\n",
            "1300:\ttest: 0.7787159\tbest: 0.7788244 (1272)\ttotal: 2m 1s\tremaining: 18.6s\n",
            "1400:\ttest: 0.7788187\tbest: 0.7788871 (1362)\ttotal: 2m 11s\tremaining: 9.27s\n",
            "1499:\ttest: 0.7791797\tbest: 0.7791797 (1499)\ttotal: 2m 20s\tremaining: 0us\n",
            "bestTest = 0.7791797221\n",
            "bestIteration = 1499\n",
            "FOLD 9  AUCTRAINING 0.815997348446237  AUC 0.7791797666363915 \n",
            "\n",
            "AUC 0.7866053722560378\n",
            "\n"
          ]
        }
      ]
    },
    {
      "cell_type": "code",
      "source": [
        "exportar_final = pd.DataFrame(\n",
        "    {'nro_telefono_hash' : dfSubmit[\"nro_telefono_hash\"],\n",
        "     'TARGET'            : pred\n",
        "    })\n",
        "\n",
        "exportar_final.to_csv('Submit20220815_V8.csv', index=False)"
      ],
      "metadata": {
        "id": "s7AehybbOzuP"
      },
      "execution_count": 18,
      "outputs": []
    },
    {
      "cell_type": "code",
      "source": [
        "fi = model.get_feature_importance(prettified=True)\n",
        "plt.figure(figsize=(12, 20));\n",
        "sns.barplot(x=\"Importances\", y=\"Feature Id\", data=fi);\n",
        "plt.title('CatBoost features importance:')\n"
      ],
      "metadata": {
        "colab": {
          "base_uri": "https://localhost:8080/",
          "height": 1000
        },
        "id": "Mm9dmnn9Ozwo",
        "outputId": "b53d2ab8-5f11-4b6a-a903-f9a0742b2774"
      },
      "execution_count": 17,
      "outputs": [
        {
          "output_type": "execute_result",
          "data": {
            "text/plain": [
              "Text(0.5, 1.0, 'CatBoost features importance:')"
            ]
          },
          "metadata": {},
          "execution_count": 17
        },
        {
          "output_type": "display_data",
          "data": {
            "text/plain": [
              "<Figure size 864x1440 with 1 Axes>"
            ],
            "image/png": "[encoded data removed]"
          },
          "metadata": {
            "needs_background": "light"
          }
        }
      ]
    },
    {
      "cell_type": "code",
      "source": [
        "## model.save_model('modelocastboost_20220814')"
      ],
      "metadata": {
        "id": "WVoVwo_9WX9k"
      },
      "execution_count": null,
      "outputs": []
    },
    {
      "cell_type": "code",
      "source": [
        ""
      ],
      "metadata": {
        "id": "ezt9QW1XWX_1"
      },
      "execution_count": null,
      "outputs": []
    },
    {
      "cell_type": "code",
      "source": [
        ""
      ],
      "metadata": {
        "id": "t6E_Bt5ge5z5"
      },
      "execution_count": null,
      "outputs": []
    },
    {
      "cell_type": "code",
      "source": [
        ""
      ],
      "metadata": {
        "id": "zjLltRzjRJlG"
      },
      "execution_count": null,
      "outputs": []
    }
  ]
}